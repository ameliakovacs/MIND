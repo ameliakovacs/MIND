{
 "cells": [
  {
   "cell_type": "code",
   "execution_count": 48,
   "metadata": {},
   "outputs": [],
   "source": [
    "import sys\n",
    "import os\n",
    "import numpy as np\n",
    "from tqdm import tqdm\n",
    "import tempfile\n",
    "import shutil\n",
    "import urllib\n",
    "import zipfile\n",
    "from collections import Counter\n",
    "import pandas as pd\n",
    "from tempfile import TemporaryDirectory\n",
    "from sklearn.linear_model import LogisticRegression\n",
    "import microsoft.mind as mind\n",
    "\n",
    "# Temporary folder for data we need during execution of this notebook\n",
    "temp_dir = os.path.join(tempfile.gettempdir(), 'mind')\n",
    "os.makedirs(temp_dir, exist_ok=True)\n"
   ]
  },
  {
   "cell_type": "code",
   "execution_count": 49,
   "metadata": {},
   "outputs": [
    {
     "name": "stderr",
     "output_type": "stream",
     "text": [
      "100%|██████████| 51.7k/51.7k [00:12<00:00, 4.04kKB/s]\n",
      "100%|██████████| 30.2k/30.2k [00:06<00:00, 4.54kKB/s]\n"
     ]
    }
   ],
   "source": [
    "# paths to the zip folders of the small training + validation sets in temp_dir\n",
    "train_zip, validation_zip = mind.download_mind(size=\"small\", dest_path=temp_dir)"
   ]
  },
  {
   "cell_type": "code",
   "execution_count": 50,
   "metadata": {},
   "outputs": [],
   "source": [
    "# extract the zip files, returns paths to folders w the data\n",
    "train_path, validation_path = mind.extract_mind(train_zip, validation_zip)"
   ]
  },
  {
   "cell_type": "code",
   "execution_count": 52,
   "metadata": {},
   "outputs": [
    {
     "data": {
      "text/plain": [
       "['U13740',\n",
       " ['N55189',\n",
       "  'N42782',\n",
       "  'N34694',\n",
       "  'N45794',\n",
       "  'N18445',\n",
       "  'N63302',\n",
       "  'N10414',\n",
       "  'N19347',\n",
       "  'N31801'],\n",
       " ['N55689'],\n",
       " ['N35729']]"
      ]
     },
     "execution_count": 52,
     "metadata": {},
     "output_type": "execute_result"
    }
   ],
   "source": [
    "# user_session: list of user sessions, [user_id, [click history], [impression clicks], [impression ignores]]\n",
    "# user_dict: dictionary with user_id click history, {user_id : [click history]}\n",
    "user_session, user_dict = mind.read_clickhistory(train_path, 'behaviors.tsv')\n",
    "user_session[0]"
   ]
  },
  {
   "cell_type": "code",
   "execution_count": 53,
   "metadata": {},
   "outputs": [],
   "source": [
    "shutil.rmtree(temp_dir)"
   ]
  }
 ],
 "metadata": {
  "kernelspec": {
   "display_name": "Python 3",
   "language": "python",
   "name": "python3"
  },
  "language_info": {
   "codemirror_mode": {
    "name": "ipython",
    "version": 3
   },
   "file_extension": ".py",
   "mimetype": "text/x-python",
   "name": "python",
   "nbconvert_exporter": "python",
   "pygments_lexer": "ipython3",
   "version": "3.8.5"
  },
  "vscode": {
   "interpreter": {
    "hash": "1212f1a62407c12174c97cff2a847e77a21c55d1fe0850be9b06459e9655e2ab"
   }
  }
 },
 "nbformat": 4,
 "nbformat_minor": 4
}
